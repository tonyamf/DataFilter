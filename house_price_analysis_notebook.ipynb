{
 "cells": [
  {
   "cell_type": "code",
   "execution_count": 1,
   "metadata": {},
   "outputs": [],
   "source": [
    "import unicodecsv\n",
    "\n",
    "prices = []\n",
    "f = open('train.csv', 'rb')\n",
    "with open('train.csv', 'rb') as f:\n",
    "    reader = unicodecsv.DictReader(f)\n",
    "    prices = list(reader)\n"
   ]
  },
  {
   "cell_type": "code",
   "execution_count": 2,
   "metadata": {},
   "outputs": [],
   "source": [
    "\n",
    "\n",
    "for price in prices:\n",
    "    price['UNDER_CONSTRUCTION'] = bool(int(price['UNDER_CONSTRUCTION']))\n",
    "    price['RERA'] = bool(int(price['RERA']))\n",
    "    price['BHK_NO.'] = int(price['BHK_NO.'])\n",
    "    price['SQUARE_M'] = float(price['SQUARE_M'])\n",
    "    price['READY_TO_MOVE'] = bool(int(price['READY_TO_MOVE']))\n",
    "    price['RESALE'] = bool(int(price['RESALE']))\n",
    "    price['LONGITUDE'] = float(price['LONGITUDE'])\n",
    "    price['LATITUDE'] = float(price['LATITUDE'])\n",
    "    price['TARGET(PRICE_IN_BGP)'] = price['TARGET(PRICE_IN_BGP)\\t']\n",
    "    del price['TARGET(PRICE_IN_BGP)\\t']\n",
    "    price['TARGET(PRICE_IN_BGP)'] = float(price['TARGET(PRICE_IN_BGP)'].split(\"\\t\", 1)[0])\n"
   ]
  },
  {
   "cell_type": "code",
   "execution_count": null,
   "metadata": {},
   "outputs": [],
   "source": []
  },
  {
   "cell_type": "code",
   "execution_count": 3,
   "metadata": {},
   "outputs": [],
   "source": [
    "%matplotlib inline\n",
    "\n",
    "import matplotlib.pyplot as plt\n",
    "import numpy as np\n",
    "import pandas as pd"
   ]
  },
  {
   "cell_type": "code",
   "execution_count": 4,
   "metadata": {},
   "outputs": [],
   "source": [
    "pricesDataset = pd.DataFrame(prices)"
   ]
  },
  {
   "cell_type": "code",
   "execution_count": 5,
   "metadata": {
    "scrolled": false
   },
   "outputs": [
    {
     "data": {
      "text/html": [
       "<div>\n",
       "<style scoped>\n",
       "    .dataframe tbody tr th:only-of-type {\n",
       "        vertical-align: middle;\n",
       "    }\n",
       "\n",
       "    .dataframe tbody tr th {\n",
       "        vertical-align: top;\n",
       "    }\n",
       "\n",
       "    .dataframe thead th {\n",
       "        text-align: right;\n",
       "    }\n",
       "</style>\n",
       "<table border=\"1\" class=\"dataframe\">\n",
       "  <thead>\n",
       "    <tr style=\"text-align: right;\">\n",
       "      <th></th>\n",
       "      <th>POSTED_BY</th>\n",
       "      <th>UNDER_CONSTRUCTION</th>\n",
       "      <th>RERA</th>\n",
       "      <th>BHK_NO.</th>\n",
       "      <th>SQUARE_M</th>\n",
       "      <th>READY_TO_MOVE</th>\n",
       "      <th>RESALE</th>\n",
       "      <th>ADDRESS</th>\n",
       "      <th>LONGITUDE</th>\n",
       "      <th>LATITUDE</th>\n",
       "      <th>TARGET(PRICE_IN_BGP)</th>\n",
       "    </tr>\n",
       "  </thead>\n",
       "  <tbody>\n",
       "    <tr>\n",
       "      <th>0</th>\n",
       "      <td>Builder</td>\n",
       "      <td>False</td>\n",
       "      <td>False</td>\n",
       "      <td>1</td>\n",
       "      <td>39.219331</td>\n",
       "      <td>True</td>\n",
       "      <td>False</td>\n",
       "      <td>Hoshangabad Road,Bhopal</td>\n",
       "      <td>22.750000</td>\n",
       "      <td>77.720000</td>\n",
       "      <td>11480.935328</td>\n",
       "    </tr>\n",
       "    <tr>\n",
       "      <th>1</th>\n",
       "      <td>Builder</td>\n",
       "      <td>False</td>\n",
       "      <td>False</td>\n",
       "      <td>1</td>\n",
       "      <td>40.916871</td>\n",
       "      <td>True</td>\n",
       "      <td>False</td>\n",
       "      <td>Anakaputhur,Chennai</td>\n",
       "      <td>12.982800</td>\n",
       "      <td>80.126400</td>\n",
       "      <td>21803.244154</td>\n",
       "    </tr>\n",
       "    <tr>\n",
       "      <th>2</th>\n",
       "      <td>Builder</td>\n",
       "      <td>False</td>\n",
       "      <td>False</td>\n",
       "      <td>1</td>\n",
       "      <td>41.207873</td>\n",
       "      <td>True</td>\n",
       "      <td>False</td>\n",
       "      <td>Virar,Mumbai</td>\n",
       "      <td>42.049481</td>\n",
       "      <td>-87.681841</td>\n",
       "      <td>39814.619760</td>\n",
       "    </tr>\n",
       "    <tr>\n",
       "      <th>3</th>\n",
       "      <td>Builder</td>\n",
       "      <td>False</td>\n",
       "      <td>False</td>\n",
       "      <td>1</td>\n",
       "      <td>52.755728</td>\n",
       "      <td>True</td>\n",
       "      <td>False</td>\n",
       "      <td>Pen,Raigad</td>\n",
       "      <td>18.750000</td>\n",
       "      <td>73.080000</td>\n",
       "      <td>27280.387613</td>\n",
       "    </tr>\n",
       "  </tbody>\n",
       "</table>\n",
       "</div>"
      ],
      "text/plain": [
       "  POSTED_BY  UNDER_CONSTRUCTION   RERA  BHK_NO.   SQUARE_M  READY_TO_MOVE  \\\n",
       "0   Builder               False  False        1  39.219331           True   \n",
       "1   Builder               False  False        1  40.916871           True   \n",
       "2   Builder               False  False        1  41.207873           True   \n",
       "3   Builder               False  False        1  52.755728           True   \n",
       "\n",
       "   RESALE                  ADDRESS  LONGITUDE   LATITUDE  TARGET(PRICE_IN_BGP)  \n",
       "0   False  Hoshangabad Road,Bhopal  22.750000  77.720000          11480.935328  \n",
       "1   False      Anakaputhur,Chennai  12.982800  80.126400          21803.244154  \n",
       "2   False             Virar,Mumbai  42.049481 -87.681841          39814.619760  \n",
       "3   False               Pen,Raigad  18.750000  73.080000          27280.387613  "
      ]
     },
     "execution_count": 5,
     "metadata": {},
     "output_type": "execute_result"
    }
   ],
   "source": [
    "pricesDataset.head(4)"
   ]
  },
  {
   "cell_type": "code",
   "execution_count": 6,
   "metadata": {
    "scrolled": false
   },
   "outputs": [
    {
     "name": "stdout",
     "output_type": "stream",
     "text": [
      "[0, 1]\n"
     ]
    },
    {
     "data": {
      "text/plain": [
       "Text(0.5, 1.0, 'Houses ready to move in')"
      ]
     },
     "execution_count": 6,
     "metadata": {},
     "output_type": "execute_result"
    },
    {
     "data": {
      "image/png": "[encoded data removed]",
      "text/plain": [
       "<Figure size 432x288 with 1 Axes>"
      ]
     },
     "metadata": {},
     "output_type": "display_data"
    }
   ],
   "source": [
    "data = pricesDataset['RESALE']\n",
    "(unique, counts) = np.unique(data, return_counts=True)\n",
    "frequencies = dict(np.asarray((unique, counts)).T)  \n",
    "#print(frequencies.values())\n",
    "x = list(frequencies)\n",
    "y = list(frequencies.values())\n",
    "print(x)\n",
    "#b = np.arange(pricesDataset['L'].min(), pricesDataset['SQUARE_M'].max())\n",
    "#print(data.describe())\n",
    "#print(np.median(data))\n",
    "plt.pie(y, labels=x, colors=['pink', 'turquoise'], autopct='%1.0f%%')\n",
    "#plt.xticks(x, ('New buy', 'resale'))\n",
    "plt.title(\"Houses ready to move in\")\n",
    "#plt.xlabel(\"Posted by\")\n",
    "#plt.ylabel(\"Frequency\")\n",
    "#plt.show()\n"
   ]
  },
  {
   "cell_type": "code",
   "execution_count": 7,
   "metadata": {},
   "outputs": [
    {
     "data": {
      "text/plain": [
       "<matplotlib.axes._subplots.AxesSubplot at 0x2cff8ff7d90>"
      ]
     },
     "execution_count": 7,
     "metadata": {},
     "output_type": "execute_result"
    },
    {
     "data": {
      "image/png": "[encoded data removed]",
      "text/plain": [
       "<Figure size 432x288 with 1 Axes>"
      ]
     },
     "metadata": {
      "needs_background": "light"
     },
     "output_type": "display_data"
    }
   ],
   "source": [
    "plt.figure();\n",
    "pricesDataset['SQUARE_M'].diff().hist()"
   ]
  },
  {
   "cell_type": "code",
   "execution_count": 8,
   "metadata": {},
   "outputs": [],
   "source": [
    "%matplotlib inline\n",
    "\n",
    "import matplotlib.pyplot as plt\n",
    "import matplotlib.patches as mpatches\n",
    "import numpy as np\n",
    "import pandas as pd\n",
    "from scipy import stats\n",
    "import scipy\n",
    "import seaborn as sns\n",
    "import statsmodels.api as sm\n",
    "from sklearn import linear_model\n",
    "import scipy.stats as stats"
   ]
  },
  {
   "cell_type": "code",
   "execution_count": 9,
   "metadata": {},
   "outputs": [
    {
     "name": "stdout",
     "output_type": "stream",
     "text": [
      "0.99958682903168 0.0\n"
     ]
    }
   ],
   "source": [
    "from numpy import percentile\n",
    "data = pricesDataset\n",
    "#plt.boxplot(data)\n",
    "#plt.title('Finding outliers')\n",
    "#plt.xlabel('TARGET(PRICE_IN_BGP)')\n",
    "#plt.ylabel('Price in pound sterling')\n",
    "\n",
    "#plt.show()\n",
    "#quantiles = data.quantile([0.01, 0.25, 0.5, 0.75, 0.99])\n",
    "#print(quantiles)\n",
    "#q1, q3 = percentile(data, 25), percentile(data, 75)\n",
    "#iqr = q3 - q1\n",
    "#margin = iqr * 1.5\n",
    "#lower, upper = q1 - margin, q3 + margin\n",
    "#outliers = [x for x in data if x < lower or x > upper]\n",
    "#print(len(outliers))\n",
    "from scipy.stats import kstest, norm\n",
    "my_data = norm.rvs(data[\"LONGITUDE\"])\n",
    "ks_statistic, p_value = kstest(my_data, 'norm')\n",
    "print(ks_statistic, p_value)\n"
   ]
  },
  {
   "cell_type": "code",
   "execution_count": null,
   "metadata": {},
   "outputs": [],
   "source": []
  },
  {
   "cell_type": "code",
   "execution_count": 10,
   "metadata": {
    "scrolled": false
   },
   "outputs": [
    {
     "data": {
      "image/png": "[encoded data removed]",
      "text/plain": [
       "<Figure size 432x288 with 1 Axes>"
      ]
     },
     "metadata": {
      "needs_background": "light"
     },
     "output_type": "display_data"
    }
   ],
   "source": [
    "colormap = np.array(['aqua', 'purple', 'gold'])\n",
    "rsls = []\n",
    "for rsl in pricesDataset['POSTED_BY']:\n",
    "    if rsl == 'Dealer':\n",
    "        rsls.append(1)\n",
    "    elif rsl == 'Builder':\n",
    "        rsls.append(2)\n",
    "    elif rsl == 'Owner':\n",
    "        rsls.append(0)\n",
    "category = np.array(rsls)\n",
    "plt.scatter(pricesDataset['SQUARE_M'], pricesDataset['TARGET(PRICE_IN_BGP)'], color=colormap[category],s=124 )\n",
    "pop_a = mpatches.Patch(color='purple', label='Dealer')\n",
    "pop_b = mpatches.Patch(color='gold', label='Builder')\n",
    "pop_c = mpatches.Patch(color='aqua', label='Owner')\n",
    "plt.legend(handles=[pop_a,pop_b,pop_c])\n",
    "plt.ylabel(\"Price in pound sterling\")\n",
    "plt.xlabel(\"Area in meter squared\")\n",
    "plt.title(\"Houses price and area by posted_by category\")\n",
    "plt.show()\n"
   ]
  },
  {
   "cell_type": "code",
   "execution_count": 11,
   "metadata": {},
   "outputs": [],
   "source": [
    "corr = data.corr()"
   ]
  },
  {
   "cell_type": "code",
   "execution_count": 12,
   "metadata": {},
   "outputs": [
    {
     "name": "stdout",
     "output_type": "stream",
     "text": [
      "                      UNDER_CONSTRUCTION      RERA   BHK_NO.  SQUARE_M  \\\n",
      "UNDER_CONSTRUCTION              1.000000  0.364299 -0.042503 -0.004233   \n",
      "RERA                            0.364299  1.000000  0.008403 -0.006251   \n",
      "BHK_NO.                        -0.042503  0.008403  1.000000  0.005337   \n",
      "SQUARE_M                       -0.004233 -0.006251  0.005337  1.000000   \n",
      "READY_TO_MOVE                  -1.000000 -0.364299  0.042503  0.004233   \n",
      "RESALE                         -0.346085 -0.270268  0.013146  0.001768   \n",
      "LONGITUDE                       0.006420  0.103617  0.067711 -0.012646   \n",
      "LATITUDE                       -0.000850 -0.065424  0.046988  0.000813   \n",
      "TARGET(PRICE_IN_BGP)            0.054618  0.067314  0.113654  0.409571   \n",
      "\n",
      "                      READY_TO_MOVE    RESALE  LONGITUDE  LATITUDE  \\\n",
      "UNDER_CONSTRUCTION        -1.000000 -0.346085   0.006420 -0.000850   \n",
      "RERA                      -0.364299 -0.270268   0.103617 -0.065424   \n",
      "BHK_NO.                    0.042503  0.013146   0.067711  0.046988   \n",
      "SQUARE_M                   0.004233  0.001768  -0.012646  0.000813   \n",
      "READY_TO_MOVE              1.000000  0.346085  -0.006420  0.000850   \n",
      "RESALE                     0.346085  1.000000   0.023274  0.015824   \n",
      "LONGITUDE                 -0.006420  0.023274   1.000000 -0.156784   \n",
      "LATITUDE                   0.000850  0.015824  -0.156784  1.000000   \n",
      "TARGET(PRICE_IN_BGP)      -0.054618 -0.203275  -0.030505 -0.017813   \n",
      "\n",
      "                      TARGET(PRICE_IN_BGP)  \n",
      "UNDER_CONSTRUCTION                0.054618  \n",
      "RERA                              0.067314  \n",
      "BHK_NO.                           0.113654  \n",
      "SQUARE_M                          0.409571  \n",
      "READY_TO_MOVE                    -0.054618  \n",
      "RESALE                           -0.203275  \n",
      "LONGITUDE                        -0.030505  \n",
      "LATITUDE                         -0.017813  \n",
      "TARGET(PRICE_IN_BGP)              1.000000  \n"
     ]
    },
    {
     "data": {
      "image/png": "[encoded data removed]",
      "text/plain": [
       "<Figure size 432x288 with 2 Axes>"
      ]
     },
     "metadata": {
      "needs_background": "light"
     },
     "output_type": "display_data"
    }
   ],
   "source": [
    "from statsmodels import api\n",
    "corr = data.corr()\n",
    "print(corr)\n",
    "api.graphics.plot_corr(corr, xnames=list(corr.columns))\n",
    "plt.show()"
   ]
  },
  {
   "cell_type": "code",
   "execution_count": 13,
   "metadata": {},
   "outputs": [],
   "source": [
    "import pandas as pd\n",
    "import matplotlib.pyplot as plt\n",
    "import numpy as np\n",
    "from scipy import stats\n",
    "import seaborn as sns\n",
    "import statsmodels.api as sm\n",
    "from sklearn import linear_model\n",
    "from sklearn.model_selection import train_test_split\n"
   ]
  },
  {
   "cell_type": "code",
   "execution_count": 14,
   "metadata": {},
   "outputs": [],
   "source": [
    "q1, q3 = percentile(data['TARGET(PRICE_IN_BGP)'], 25), percentile(data['TARGET(PRICE_IN_BGP)'], 75)\n",
    "iqr = q3 - q1\n",
    "margin = iqr * 1.5\n",
    "lower, upper = q1 - margin, q3 + margin\n",
    "OutdfB, OutdfD, OutdfO = [], [], []\n",
    "for price in prices:\n",
    "    if price['TARGET(PRICE_IN_BGP)'] < upper and price['TARGET(PRICE_IN_BGP)'] > lower:\n",
    "        und, rer, rea, res = 0, 0, 0, 0  \n",
    "        if price['UNDER_CONSTRUCTION'] == True:\n",
    "            und = 1\n",
    "        elif price['UNDER_CONSTRUCTION'] == False:\n",
    "            und = 0\n",
    "        if price['RERA'] == True:\n",
    "            rer = 1\n",
    "        elif price['RERA'] == False:\n",
    "            rer = 0\n",
    "        if price['READY_TO_MOVE'] == True:\n",
    "            rea = 1\n",
    "        elif price['READY_TO_MOVE'] == False:\n",
    "            rea = 0\n",
    "        if price['RESALE'] == True:\n",
    "            res = 1\n",
    "        elif price['RESALE'] == False:\n",
    "            res = 0\n",
    "        case = {'UNDER_CONSTRUCTION': und, 'RERA': rer, 'BHK_NO.': price['BHK_NO.'], 'SQUARE_M': price['SQUARE_M'], 'READY_TO_MOVE': rea, 'RESALE': res, 'LONGITUDE': price['LONGITUDE'], 'LATITUDE': price['LATITUDE'], 'TARGET(PRICE_IN_BGP)': price['TARGET(PRICE_IN_BGP)']}\n",
    "        if price['POSTED_BY'] == 'Dealer':\n",
    "            OutdfD.append(case)\n",
    "        elif price['POSTED_BY'] == 'Builder':\n",
    "            OutdfB.append(case)\n",
    "        elif price['POSTED_BY'] == 'Owner':\n",
    "            OutdfO.append(case)"
   ]
  },
  {
   "cell_type": "code",
   "execution_count": 15,
   "metadata": {},
   "outputs": [
    {
     "data": {
      "text/html": [
       "<div>\n",
       "<style scoped>\n",
       "    .dataframe tbody tr th:only-of-type {\n",
       "        vertical-align: middle;\n",
       "    }\n",
       "\n",
       "    .dataframe tbody tr th {\n",
       "        vertical-align: top;\n",
       "    }\n",
       "\n",
       "    .dataframe thead th {\n",
       "        text-align: right;\n",
       "    }\n",
       "</style>\n",
       "<table border=\"1\" class=\"dataframe\">\n",
       "  <thead>\n",
       "    <tr style=\"text-align: right;\">\n",
       "      <th></th>\n",
       "      <th>UNDER_CONSTRUCTION</th>\n",
       "      <th>RERA</th>\n",
       "      <th>BHK_NO.</th>\n",
       "      <th>SQUARE_M</th>\n",
       "      <th>READY_TO_MOVE</th>\n",
       "      <th>RESALE</th>\n",
       "      <th>LONGITUDE</th>\n",
       "      <th>LATITUDE</th>\n",
       "      <th>TARGET(PRICE_IN_BGP)</th>\n",
       "    </tr>\n",
       "  </thead>\n",
       "  <tbody>\n",
       "    <tr>\n",
       "      <th>0</th>\n",
       "      <td>0</td>\n",
       "      <td>0</td>\n",
       "      <td>1</td>\n",
       "      <td>0.929030</td>\n",
       "      <td>1</td>\n",
       "      <td>1</td>\n",
       "      <td>21.216630</td>\n",
       "      <td>72.899374</td>\n",
       "      <td>8426.374552</td>\n",
       "    </tr>\n",
       "    <tr>\n",
       "      <th>1</th>\n",
       "      <td>0</td>\n",
       "      <td>0</td>\n",
       "      <td>1</td>\n",
       "      <td>1.020067</td>\n",
       "      <td>1</td>\n",
       "      <td>1</td>\n",
       "      <td>21.047939</td>\n",
       "      <td>75.770559</td>\n",
       "      <td>28755.003160</td>\n",
       "    </tr>\n",
       "    <tr>\n",
       "      <th>2</th>\n",
       "      <td>0</td>\n",
       "      <td>0</td>\n",
       "      <td>1</td>\n",
       "      <td>92.903040</td>\n",
       "      <td>1</td>\n",
       "      <td>1</td>\n",
       "      <td>12.968029</td>\n",
       "      <td>74.900647</td>\n",
       "      <td>29492.310933</td>\n",
       "    </tr>\n",
       "    <tr>\n",
       "      <th>3</th>\n",
       "      <td>0</td>\n",
       "      <td>0</td>\n",
       "      <td>1</td>\n",
       "      <td>92.903040</td>\n",
       "      <td>1</td>\n",
       "      <td>1</td>\n",
       "      <td>19.048746</td>\n",
       "      <td>72.932337</td>\n",
       "      <td>14746.155467</td>\n",
       "    </tr>\n",
       "    <tr>\n",
       "      <th>4</th>\n",
       "      <td>0</td>\n",
       "      <td>0</td>\n",
       "      <td>1</td>\n",
       "      <td>92.903040</td>\n",
       "      <td>1</td>\n",
       "      <td>1</td>\n",
       "      <td>20.968491</td>\n",
       "      <td>72.920920</td>\n",
       "      <td>14219.507057</td>\n",
       "    </tr>\n",
       "  </tbody>\n",
       "</table>\n",
       "</div>"
      ],
      "text/plain": [
       "   UNDER_CONSTRUCTION  RERA  BHK_NO.   SQUARE_M  READY_TO_MOVE  RESALE  \\\n",
       "0                   0     0        1   0.929030              1       1   \n",
       "1                   0     0        1   1.020067              1       1   \n",
       "2                   0     0        1  92.903040              1       1   \n",
       "3                   0     0        1  92.903040              1       1   \n",
       "4                   0     0        1  92.903040              1       1   \n",
       "\n",
       "   LONGITUDE   LATITUDE  TARGET(PRICE_IN_BGP)  \n",
       "0  21.216630  72.899374           8426.374552  \n",
       "1  21.047939  75.770559          28755.003160  \n",
       "2  12.968029  74.900647          29492.310933  \n",
       "3  19.048746  72.932337          14746.155467  \n",
       "4  20.968491  72.920920          14219.507057  "
      ]
     },
     "execution_count": 15,
     "metadata": {},
     "output_type": "execute_result"
    }
   ],
   "source": [
    "dfO, dfD, dfB  = pd.DataFrame(OutdfO), pd.DataFrame(OutdfD), pd.DataFrame(OutdfB)\n",
    "dfO.head(5)\n",
    "#print(len(dfD))"
   ]
  },
  {
   "cell_type": "code",
   "execution_count": 16,
   "metadata": {},
   "outputs": [],
   "source": [
    "dfO = dfO.sample(frac = 1) \n",
    "dfD = dfD.sample(frac = 1) \n",
    "dfB = dfB.sample(frac = 1) "
   ]
  },
  {
   "cell_type": "code",
   "execution_count": 17,
   "metadata": {},
   "outputs": [],
   "source": [
    "dfO.to_csv(r'Desktop/dfOwner.csv', index = False)\n",
    "dfD.to_csv(r'Desktop/dfDealer.csv', index = False)\n",
    "dfB.to_csv(r'Desktop/dfBuilder.csv', index = False)"
   ]
  },
  {
   "cell_type": "code",
   "execution_count": 30,
   "metadata": {},
   "outputs": [
    {
     "data": {
      "text/plain": [
       "LinearRegression()"
      ]
     },
     "execution_count": 30,
     "metadata": {},
     "output_type": "execute_result"
    }
   ],
   "source": [
    "X = dfD[['UNDER_CONSTRUCTION', 'RERA', 'BHK_NO.', 'SQUARE_M', 'READY_TO_MOVE', 'RESALE', 'LONGITUDE', 'LATITUDE']]\n",
    "y = dfD['TARGET(PRICE_IN_BGP)']\n",
    "X_train, X_test, y_train, y_test = train_test_split(X, y, test_size = 0.2, random_state=42)\n",
    "from sklearn.linear_model import LinearRegression\n",
    "regressor = LinearRegression()\n",
    "regressor.fit(X_train, y_train)"
   ]
  },
  {
   "cell_type": "code",
   "execution_count": 31,
   "metadata": {},
   "outputs": [
    {
     "name": "stdout",
     "output_type": "stream",
     "text": [
      "Coefficients: \n",
      " [-1.34980027e+03  7.31831105e+03  2.19362102e+04  8.26752731e+00\n",
      "  1.34980027e+03 -1.35724794e+03 -1.78489322e+03 -6.87626178e+02]\n",
      "Mean squared error: 1736797197.79\n",
      "Coefficient of determination: 0.19\n",
      "Coefficient of determination: 119770.31\n"
     ]
    }
   ],
   "source": [
    "from sklearn.metrics import mean_squared_error, r2_score\n",
    "y_pred = regressor.predict(X_test)\n",
    "df = pd.DataFrame({'Real Values':y_test, 'Predicted Values':y_pred})\n",
    "\n",
    "print('Coefficients: \\n', regressor.coef_)\n",
    "# The mean squared error\n",
    "print('Mean squared error: %.2f'% mean_squared_error(y_test, y_pred))\n",
    "# The coefficient of determination: 1 is perfect prediction\n",
    "print('Coefficient of determination: %.2f'% r2_score(y_test, y_pred))\n",
    "print('intercept: %.2f'% regressor.intercept_)"
   ]
  },
  {
   "cell_type": "code",
   "execution_count": 32,
   "metadata": {},
   "outputs": [
    {
     "name": "stdout",
     "output_type": "stream",
     "text": [
      "Coefficients: \n",
      " [-3.31300373e+01  7.96835413e+03  2.37148293e+04 -6.65789331e-02\n",
      "  3.31300373e+01  1.15095449e+04 -9.11468057e+02 -1.22642010e+02]\n",
      "Mean squared error: 730620918.29\n",
      "Coefficient of determination: 0.20\n",
      "intercept: 15481.42\n"
     ]
    }
   ],
   "source": [
    "X = dfO[['UNDER_CONSTRUCTION', 'RERA', 'BHK_NO.', 'SQUARE_M', 'READY_TO_MOVE', 'RESALE', 'LONGITUDE', 'LATITUDE']]\n",
    "y = dfO['TARGET(PRICE_IN_BGP)']\n",
    "X_train, X_test, y_train, y_test = train_test_split(X, y, test_size = 0.2, random_state=42)\n",
    "from sklearn.linear_model import LinearRegression\n",
    "regressor = LinearRegression()\n",
    "regressor.fit(X_train, y_train)\n",
    "from sklearn.metrics import mean_squared_error, r2_score\n",
    "y_pred = regressor.predict(X_test)\n",
    "df = pd.DataFrame({'Real Values':y_test, 'Predicted Values':y_pred})\n",
    "\n",
    "print('Coefficients: \\n', regressor.coef_)\n",
    "# The mean squared error\n",
    "print('Mean squared error: %.2f'% mean_squared_error(y_test, y_pred))\n",
    "# The coefficient of determination: 1 is perfect prediction\n",
    "print('Coefficient of determination: %.2f'% r2_score(y_test, y_pred))\n",
    "print('intercept: %.2f'% regressor.intercept_)\n"
   ]
  },
  {
   "cell_type": "code",
   "execution_count": 33,
   "metadata": {},
   "outputs": [
    {
     "name": "stdout",
     "output_type": "stream",
     "text": [
      "Coefficients: \n",
      " [ 1847.8431142   7773.46673221 13419.03854945   169.13910854\n",
      " -1847.8431142   4191.14400871  -949.61508333   -59.41409203]\n",
      "Mean squared error: 646507409.67\n",
      "Coefficient of determination: 0.36\n",
      "intercept: 21805.75\n"
     ]
    }
   ],
   "source": [
    "X = dfB[['UNDER_CONSTRUCTION', 'RERA', 'BHK_NO.', 'SQUARE_M', 'READY_TO_MOVE', 'RESALE', 'LONGITUDE', 'LATITUDE']]\n",
    "y = dfB['TARGET(PRICE_IN_BGP)']\n",
    "X_train, X_test, y_train, y_test = train_test_split(X, y, test_size = 0.2, random_state=42)\n",
    "from sklearn.linear_model import LinearRegression\n",
    "regressor = LinearRegression()\n",
    "regressor.fit(X_train, y_train)\n",
    "from sklearn.metrics import mean_squared_error, r2_score\n",
    "y_pred = regressor.predict(X_test)\n",
    "df = pd.DataFrame({'Real Values':y_test, 'Predicted Values':y_pred})\n",
    "\n",
    "print('Coefficients: \\n', regressor.coef_)\n",
    "# The mean squared error\n",
    "print('Mean squared error: %.2f'% mean_squared_error(y_test, y_pred))\n",
    "# The coefficient of determination: 1 is perfect prediction\n",
    "print('Coefficient of determination: %.2f'% r2_score(y_test, y_pred))\n",
    "print('intercept: %.2f'% regressor.intercept_)"
   ]
  },
  {
   "cell_type": "code",
   "execution_count": 35,
   "metadata": {},
   "outputs": [],
   "source": [
    "q1, q3 = percentile(data['TARGET(PRICE_IN_BGP)'], 25), percentile(data['TARGET(PRICE_IN_BGP)'], 75)\n",
    "iqr = q3 - q1\n",
    "margin = iqr * 1.5\n",
    "lower, upper = q1 - margin, q3 + margin\n",
    "Outdf = []\n",
    "for price in prices:\n",
    "    if price['TARGET(PRICE_IN_BGP)'] < upper and price['TARGET(PRICE_IN_BGP)'] > lower:\n",
    "        pos, und, rer, rea, res = 0, 0, 0, 0, 0  \n",
    "        if price['UNDER_CONSTRUCTION'] == True:\n",
    "            und = 1\n",
    "        elif price['UNDER_CONSTRUCTION'] == False:\n",
    "            und = 0\n",
    "        if price['RERA'] == True:\n",
    "            rer = 1\n",
    "        elif price['RERA'] == False:\n",
    "            rer = 0\n",
    "        if price['READY_TO_MOVE'] == True:\n",
    "            rea = 1\n",
    "        elif price['READY_TO_MOVE'] == False:\n",
    "            rea = 0\n",
    "        if price['RESALE'] == True:\n",
    "            res = 1\n",
    "        elif price['RESALE'] == False:\n",
    "            res = 0\n",
    "        if price['POSTED_BY'] == 'Dealer':\n",
    "            pos = 0\n",
    "        elif price['POSTED_BY'] == 'Builder':\n",
    "            pos = 1\n",
    "        elif price['POSTED_BY'] == 'Owner':\n",
    "            pos = 2\n",
    "        case = {'POSTED_BY': pos, 'UNDER_CONSTRUCTION': und, 'RERA': rer, 'BHK_NO.': price['BHK_NO.'], 'SQUARE_M': price['SQUARE_M'], 'READY_TO_MOVE': rea, 'RESALE': res, 'LONGITUDE': price['LONGITUDE'], 'LATITUDE': price['LATITUDE'], 'TARGET(PRICE_IN_BGP)': price['TARGET(PRICE_IN_BGP)']}\n",
    "        Outdf.append(case)"
   ]
  },
  {
   "cell_type": "code",
   "execution_count": 36,
   "metadata": {},
   "outputs": [
    {
     "data": {
      "text/html": [
       "<div>\n",
       "<style scoped>\n",
       "    .dataframe tbody tr th:only-of-type {\n",
       "        vertical-align: middle;\n",
       "    }\n",
       "\n",
       "    .dataframe tbody tr th {\n",
       "        vertical-align: top;\n",
       "    }\n",
       "\n",
       "    .dataframe thead th {\n",
       "        text-align: right;\n",
       "    }\n",
       "</style>\n",
       "<table border=\"1\" class=\"dataframe\">\n",
       "  <thead>\n",
       "    <tr style=\"text-align: right;\">\n",
       "      <th></th>\n",
       "      <th>POSTED_BY</th>\n",
       "      <th>UNDER_CONSTRUCTION</th>\n",
       "      <th>RERA</th>\n",
       "      <th>BHK_NO.</th>\n",
       "      <th>SQUARE_M</th>\n",
       "      <th>READY_TO_MOVE</th>\n",
       "      <th>RESALE</th>\n",
       "      <th>LONGITUDE</th>\n",
       "      <th>LATITUDE</th>\n",
       "      <th>TARGET(PRICE_IN_BGP)</th>\n",
       "    </tr>\n",
       "  </thead>\n",
       "  <tbody>\n",
       "    <tr>\n",
       "      <th>0</th>\n",
       "      <td>1</td>\n",
       "      <td>0</td>\n",
       "      <td>0</td>\n",
       "      <td>1</td>\n",
       "      <td>39.219331</td>\n",
       "      <td>1</td>\n",
       "      <td>0</td>\n",
       "      <td>22.750000</td>\n",
       "      <td>77.720000</td>\n",
       "      <td>11480.935328</td>\n",
       "    </tr>\n",
       "    <tr>\n",
       "      <th>1</th>\n",
       "      <td>1</td>\n",
       "      <td>0</td>\n",
       "      <td>0</td>\n",
       "      <td>1</td>\n",
       "      <td>40.916871</td>\n",
       "      <td>1</td>\n",
       "      <td>0</td>\n",
       "      <td>12.982800</td>\n",
       "      <td>80.126400</td>\n",
       "      <td>21803.244154</td>\n",
       "    </tr>\n",
       "    <tr>\n",
       "      <th>2</th>\n",
       "      <td>1</td>\n",
       "      <td>0</td>\n",
       "      <td>0</td>\n",
       "      <td>1</td>\n",
       "      <td>41.207873</td>\n",
       "      <td>1</td>\n",
       "      <td>0</td>\n",
       "      <td>42.049481</td>\n",
       "      <td>-87.681841</td>\n",
       "      <td>39814.619760</td>\n",
       "    </tr>\n",
       "    <tr>\n",
       "      <th>3</th>\n",
       "      <td>1</td>\n",
       "      <td>0</td>\n",
       "      <td>0</td>\n",
       "      <td>1</td>\n",
       "      <td>52.755728</td>\n",
       "      <td>1</td>\n",
       "      <td>0</td>\n",
       "      <td>18.750000</td>\n",
       "      <td>73.080000</td>\n",
       "      <td>27280.387613</td>\n",
       "    </tr>\n",
       "    <tr>\n",
       "      <th>4</th>\n",
       "      <td>1</td>\n",
       "      <td>0</td>\n",
       "      <td>0</td>\n",
       "      <td>1</td>\n",
       "      <td>55.079476</td>\n",
       "      <td>1</td>\n",
       "      <td>0</td>\n",
       "      <td>13.086769</td>\n",
       "      <td>80.191135</td>\n",
       "      <td>49926.269223</td>\n",
       "    </tr>\n",
       "  </tbody>\n",
       "</table>\n",
       "</div>"
      ],
      "text/plain": [
       "   POSTED_BY  UNDER_CONSTRUCTION  RERA  BHK_NO.   SQUARE_M  READY_TO_MOVE  \\\n",
       "0          1                   0     0        1  39.219331              1   \n",
       "1          1                   0     0        1  40.916871              1   \n",
       "2          1                   0     0        1  41.207873              1   \n",
       "3          1                   0     0        1  52.755728              1   \n",
       "4          1                   0     0        1  55.079476              1   \n",
       "\n",
       "   RESALE  LONGITUDE   LATITUDE  TARGET(PRICE_IN_BGP)  \n",
       "0       0  22.750000  77.720000          11480.935328  \n",
       "1       0  12.982800  80.126400          21803.244154  \n",
       "2       0  42.049481 -87.681841          39814.619760  \n",
       "3       0  18.750000  73.080000          27280.387613  \n",
       "4       0  13.086769  80.191135          49926.269223  "
      ]
     },
     "execution_count": 36,
     "metadata": {},
     "output_type": "execute_result"
    }
   ],
   "source": [
    "df= pd.DataFrame(Outdf)\n",
    "df.head(5)"
   ]
  },
  {
   "cell_type": "code",
   "execution_count": 37,
   "metadata": {},
   "outputs": [],
   "source": [
    "df = df.sample(frac = 1) \n",
    "df.to_csv(r'Desktop/df.csv', index = False)"
   ]
  },
  {
   "cell_type": "code",
   "execution_count": 38,
   "metadata": {},
   "outputs": [
    {
     "name": "stdout",
     "output_type": "stream",
     "text": [
      "Coefficients: \n",
      " [-1.40422258e+04 -1.27342166e+03  8.33762585e+03  2.22691667e+04\n",
      " -6.14989452e-02  1.27342166e+03  6.57412830e+03 -1.38440043e+03\n",
      " -3.75001237e+02]\n",
      "Mean squared error: 1339741395.08\n",
      "Coefficient of determination: 0.28\n",
      "intercept: 79182.19\n"
     ]
    }
   ],
   "source": [
    "X = df[['POSTED_BY', 'UNDER_CONSTRUCTION', 'RERA', 'BHK_NO.', 'SQUARE_M', 'READY_TO_MOVE', 'RESALE', 'LONGITUDE', 'LATITUDE']]\n",
    "#X = sm.add_constant(X) #add the intercept value y=mx+c\n",
    "y = df['TARGET(PRICE_IN_BGP)']\n",
    "X_train, X_test, y_train, y_test = train_test_split(X, y, test_size = 0.2, random_state=42)\n",
    "from sklearn.linear_model import LinearRegression\n",
    "regressor = LinearRegression()\n",
    "regressor.fit(X_train, y_train)\n",
    "from sklearn.metrics import mean_squared_error, r2_score\n",
    "y_pred = regressor.predict(X_test)\n",
    "df = pd.DataFrame({'Real Values':y_test, 'Predicted Values':y_pred})\n",
    "\n",
    "print('Coefficients: \\n', regressor.coef_)\n",
    "# The mean squared error\n",
    "print('Mean squared error: %.2f'% mean_squared_error(y_test, y_pred))\n",
    "# The coefficient of determination: 1 is perfect prediction\n",
    "print('Coefficient of determination: %.2f'% r2_score(y_test, y_pred))\n",
    "print('intercept: %.2f'% regressor.intercept_)"
   ]
  },
  {
   "cell_type": "code",
   "execution_count": null,
   "metadata": {},
   "outputs": [],
   "source": []
  },
  {
   "cell_type": "code",
   "execution_count": null,
   "metadata": {},
   "outputs": [],
   "source": []
  }
 ],
 "metadata": {
  "kernelspec": {
   "display_name": "Python 3",
   "language": "python",
   "name": "python3"
  },
  "language_info": {
   "codemirror_mode": {
    "name": "ipython",
    "version": 3
   },
   "file_extension": ".py",
   "mimetype": "text/x-python",
   "name": "python",
   "nbconvert_exporter": "python",
   "pygments_lexer": "ipython3",
   "version": "3.8.3"
  }
 },
 "nbformat": 4,
 "nbformat_minor": 4
}
